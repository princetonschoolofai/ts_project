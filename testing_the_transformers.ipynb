{
 "cells": [
  {
   "cell_type": "code",
   "execution_count": 1,
   "metadata": {},
   "outputs": [],
   "source": [
    "#!pip install ta\n",
    "import ta\n",
    "import pandas as pd\n",
    "import numpy as np\n",
    "from sklearn.pipeline import Pipeline\n",
    "from TransformData import Normalizer, PCA_, GetTA\n",
    "\n"
   ]
  },
  {
   "cell_type": "code",
   "execution_count": 2,
   "metadata": {},
   "outputs": [
    {
     "name": "stdout",
     "output_type": "stream",
     "text": [
      "              open    high       low   close  adjusted_close    volume  \\\n",
      "timestamp                                                                \n",
      "2019-06-27  186.47  186.94  185.9900  186.72        186.7200  15889915   \n",
      "2019-06-26  186.13  187.33  185.4900  185.79        185.7900  22512628   \n",
      "2019-06-25  188.06  188.14  184.6500  184.93        184.9300  33921112   \n",
      "2019-06-24  188.52  188.72  188.0600  188.16        188.1600  19375205   \n",
      "2019-06-21  188.57  189.77  188.1736  188.57        188.1544  39980418   \n",
      "\n",
      "            dividend_amount  split_coefficient  \n",
      "timestamp                                       \n",
      "2019-06-27           0.0000                1.0  \n",
      "2019-06-26           0.0000                1.0  \n",
      "2019-06-25           0.0000                1.0  \n",
      "2019-06-24           0.4156                1.0  \n",
      "2019-06-21           0.0000                1.0  \n"
     ]
    },
    {
     "data": {
      "text/plain": [
       "Index(['open', 'high', 'low', 'close', 'adjusted_close', 'volume',\n",
       "       'dividend_amount', 'split_coefficient'],\n",
       "      dtype='object')"
      ]
     },
     "execution_count": 2,
     "metadata": {},
     "output_type": "execute_result"
    }
   ],
   "source": [
    "qqq = pd.read_csv('AlphaVantageDaily_adjusted_qqq.csv', infer_datetime_format=True,  index_col=['timestamp'])\n",
    "\n",
    "print(qqq.head())\n",
    "qqq.columns"
   ]
  },
  {
   "cell_type": "code",
   "execution_count": 3,
   "metadata": {},
   "outputs": [
    {
     "name": "stderr",
     "output_type": "stream",
     "text": [
      "C:\\Users\\vinic\\Anaconda3\\lib\\site-packages\\ta\\trend.py:170: RuntimeWarning: divide by zero encountered in double_scalars\n",
      "  dip[i] = 100 * (dip_mio[i]/trs[i])\n",
      "C:\\Users\\vinic\\Anaconda3\\lib\\site-packages\\ta\\trend.py:170: RuntimeWarning: invalid value encountered in double_scalars\n",
      "  dip[i] = 100 * (dip_mio[i]/trs[i])\n",
      "C:\\Users\\vinic\\Anaconda3\\lib\\site-packages\\ta\\trend.py:174: RuntimeWarning: divide by zero encountered in double_scalars\n",
      "  din[i] = 100 * (din_mio[i]/trs[i])\n",
      "C:\\Users\\vinic\\Anaconda3\\lib\\site-packages\\ta\\trend.py:174: RuntimeWarning: invalid value encountered in double_scalars\n",
      "  din[i] = 100 * (din_mio[i]/trs[i])\n",
      "C:\\Users\\vinic\\Anaconda3\\lib\\site-packages\\ta\\trend.py:176: RuntimeWarning: invalid value encountered in subtract\n",
      "  dx = 100 * np.abs((dip - din) / (dip + din))\n"
     ]
    }
   ],
   "source": [
    "qqq = GetTA().fit_transform(qqq)"
   ]
  },
  {
   "cell_type": "code",
   "execution_count": 4,
   "metadata": {},
   "outputs": [
    {
     "name": "stdout",
     "output_type": "stream",
     "text": [
      "              open    high       low   close  adjusted_close    volume  \\\n",
      "timestamp                                                                \n",
      "2019-06-27  186.47  186.94  185.9900  186.72        186.7200  15889915   \n",
      "2019-06-26  186.13  187.33  185.4900  185.79        185.7900  22512628   \n",
      "2019-06-25  188.06  188.14  184.6500  184.93        184.9300  33921112   \n",
      "2019-06-24  188.52  188.72  188.0600  188.16        188.1600  19375205   \n",
      "2019-06-21  188.57  189.77  188.1736  188.57        188.1544  39980418   \n",
      "\n",
      "            dividend_amount  split_coefficient    volume_adi  volume_obv  ...  \\\n",
      "timestamp                                                                 ...   \n",
      "2019-06-27           0.0000                1.0  1.125940e+07         0.0  ...   \n",
      "2019-06-26           0.0000                1.0 -6.641178e+06 -22512628.0  ...   \n",
      "2019-06-25           0.0000                1.0 -4.364974e+07 -56433740.0  ...   \n",
      "2019-06-24           0.4156                1.0 -4.198211e+07 -37058535.0  ...   \n",
      "2019-06-21           0.0000                1.0 -3.362938e+07   2921883.0  ...   \n",
      "\n",
      "            momentum_mfi  momentum_tsi  momentum_uo  momentum_stoch  \\\n",
      "timestamp                                                             \n",
      "2019-06-27    100.000000    100.000000    99.804565       76.842105   \n",
      "2019-06-26     41.422372     99.406878    98.461667       16.304348   \n",
      "2019-06-25     22.018915     98.867262    95.784546        8.022923   \n",
      "2019-06-24     38.647001     98.577080    95.455648       86.240786   \n",
      "2019-06-21     57.430023     98.389005    94.541747       76.562500   \n",
      "\n",
      "            momentum_stoch_signal  momentum_wr  momentum_ao   others_dr  \\\n",
      "timestamp                                                                 \n",
      "2019-06-27              76.842105   -23.157895          0.0  151.067385   \n",
      "2019-06-26              46.573227   -83.695652          0.0   -0.498072   \n",
      "2019-06-25              33.723125   -91.977077          0.0   -0.462888   \n",
      "2019-06-24              36.856019   -13.759214          0.0    1.746607   \n",
      "2019-06-21              56.942070   -23.437500          0.0    0.217900   \n",
      "\n",
      "            others_dlr  others_cr  \n",
      "timestamp                          \n",
      "2019-06-27    0.000000   0.000000  \n",
      "2019-06-26   -0.499316  -0.498072  \n",
      "2019-06-25   -0.463963  -0.958655  \n",
      "2019-06-24    1.731529   0.771208  \n",
      "2019-06-21    0.217663   0.990788  \n",
      "\n",
      "[5 rows x 66 columns]\n",
      "(5109, 66)\n",
      "Index(['open', 'high', 'low', 'close', 'adjusted_close', 'volume',\n",
      "       'dividend_amount', 'split_coefficient', 'volume_adi', 'volume_obv',\n",
      "       'volume_cmf', 'volume_fi', 'volume_em', 'volume_vpt', 'volume_nvi',\n",
      "       'volatility_atr', 'volatility_bbh', 'volatility_bbl', 'volatility_bbm',\n",
      "       'volatility_bbhi', 'volatility_bbli', 'volatility_kcc',\n",
      "       'volatility_kch', 'volatility_kcl', 'volatility_kchi',\n",
      "       'volatility_kcli', 'volatility_dch', 'volatility_dcl',\n",
      "       'volatility_dchi', 'volatility_dcli', 'trend_macd', 'trend_macd_signal',\n",
      "       'trend_macd_diff', 'trend_ema_fast', 'trend_ema_slow', 'trend_adx',\n",
      "       'trend_adx_pos', 'trend_adx_neg', 'trend_vortex_ind_pos',\n",
      "       'trend_vortex_ind_neg', 'trend_vortex_diff', 'trend_trix',\n",
      "       'trend_mass_index', 'trend_cci', 'trend_dpo', 'trend_kst',\n",
      "       'trend_kst_sig', 'trend_kst_diff', 'trend_ichimoku_a',\n",
      "       'trend_ichimoku_b', 'trend_visual_ichimoku_a',\n",
      "       'trend_visual_ichimoku_b', 'trend_aroon_up', 'trend_aroon_down',\n",
      "       'trend_aroon_ind', 'momentum_rsi', 'momentum_mfi', 'momentum_tsi',\n",
      "       'momentum_uo', 'momentum_stoch', 'momentum_stoch_signal', 'momentum_wr',\n",
      "       'momentum_ao', 'others_dr', 'others_dlr', 'others_cr'],\n",
      "      dtype='object')\n"
     ]
    }
   ],
   "source": [
    "print(qqq.head())\n",
    "print(qqq.shape)\n",
    "print(qqq.columns)"
   ]
  },
  {
   "cell_type": "code",
   "execution_count": 5,
   "metadata": {},
   "outputs": [
    {
     "name": "stdout",
     "output_type": "stream",
     "text": [
      "                open      high       low     close  adjusted_close    volume  \\\n",
      "timestamp                                                                      \n",
      "2019-06-27  0.030019  0.029856  0.030228  0.030061        0.033117  0.002534   \n",
      "2019-06-26  0.029964  0.029918  0.030147  0.029912        0.032952  0.003590   \n",
      "2019-06-25  0.030275  0.030047  0.030010  0.029773        0.032799  0.005410   \n",
      "2019-06-24  0.030349  0.030140  0.030565  0.030293        0.033372  0.003090   \n",
      "2019-06-21  0.030357  0.030308  0.030583  0.030359        0.033371  0.006376   \n",
      "\n",
      "            dividend_amount  split_coefficient  volume_adi  volume_obv  ...  \\\n",
      "timestamp                                                               ...   \n",
      "2019-06-27         0.000000           0.013986    0.002070    0.000000  ...   \n",
      "2019-06-26         0.000000           0.013986   -0.001221   -0.000022  ...   \n",
      "2019-06-25         0.000000           0.013986   -0.008025   -0.000056  ...   \n",
      "2019-06-24         0.237742           0.013986   -0.007718   -0.000036  ...   \n",
      "2019-06-21         0.000000           0.013986   -0.006183    0.000003  ...   \n",
      "\n",
      "            momentum_mfi  momentum_tsi  momentum_uo  momentum_stoch  \\\n",
      "timestamp                                                             \n",
      "2019-06-27      0.029630      0.079795     0.026842        0.019227   \n",
      "2019-06-26      0.012274      0.079322     0.026481        0.004080   \n",
      "2019-06-25      0.006524      0.078891     0.025761        0.002007   \n",
      "2019-06-24      0.011451      0.078659     0.025672        0.021579   \n",
      "2019-06-21      0.017017      0.078509     0.025427        0.019157   \n",
      "\n",
      "            momentum_stoch_signal  momentum_wr  momentum_ao  others_dr  \\\n",
      "timestamp                                                                \n",
      "2019-06-27               0.019613    -0.005491          0.0   0.678531   \n",
      "2019-06-26               0.011887    -0.019844          0.0  -0.002237   \n",
      "2019-06-25               0.008607    -0.021807          0.0  -0.002079   \n",
      "2019-06-24               0.009407    -0.003262          0.0   0.007845   \n",
      "2019-06-21               0.014534    -0.005557          0.0   0.000979   \n",
      "\n",
      "            others_dlr  others_cr  \n",
      "timestamp                          \n",
      "2019-06-27    0.000000   0.000000  \n",
      "2019-06-26   -0.003464  -0.000108  \n",
      "2019-06-25   -0.003219  -0.000207  \n",
      "2019-06-24    0.012013   0.000166  \n",
      "2019-06-21    0.001510   0.000214  \n",
      "\n",
      "[5 rows x 66 columns]\n"
     ]
    },
    {
     "data": {
      "text/plain": [
       "(5109, 66)"
      ]
     },
     "execution_count": 5,
     "metadata": {},
     "output_type": "execute_result"
    }
   ],
   "source": [
    "qqq = Normalizer().fit_transform(qqq)\n",
    "print(qqq.head())\n",
    "qqq.shape"
   ]
  },
  {
   "cell_type": "code",
   "execution_count": 6,
   "metadata": {},
   "outputs": [
    {
     "ename": "TypeError",
     "evalue": "'int' object is not subscriptable",
     "output_type": "error",
     "traceback": [
      "\u001b[1;31m---------------------------------------------------------------------------\u001b[0m",
      "\u001b[1;31mTypeError\u001b[0m                                 Traceback (most recent call last)",
      "\u001b[1;32m<ipython-input-6-b56728852a03>\u001b[0m in \u001b[0;36m<module>\u001b[1;34m\u001b[0m\n\u001b[1;32m----> 1\u001b[1;33m \u001b[0mqqq\u001b[0m \u001b[1;33m=\u001b[0m \u001b[0mPCA_\u001b[0m\u001b[1;33m(\u001b[0m\u001b[1;36m0.95\u001b[0m\u001b[1;33m)\u001b[0m\u001b[1;33m.\u001b[0m\u001b[0mfit_transform\u001b[0m\u001b[1;33m(\u001b[0m\u001b[0mqqq\u001b[0m\u001b[1;33m)\u001b[0m\u001b[1;33m\u001b[0m\u001b[1;33m\u001b[0m\u001b[0m\n\u001b[0m\u001b[0;32m      2\u001b[0m \u001b[0mprint\u001b[0m\u001b[1;33m(\u001b[0m\u001b[0mqqq\u001b[0m\u001b[1;33m.\u001b[0m\u001b[0mhead\u001b[0m\u001b[1;33m(\u001b[0m\u001b[1;33m)\u001b[0m\u001b[1;33m)\u001b[0m\u001b[1;33m\u001b[0m\u001b[1;33m\u001b[0m\u001b[0m\n\u001b[0;32m      3\u001b[0m \u001b[0mqqq\u001b[0m\u001b[1;33m.\u001b[0m\u001b[0mshape\u001b[0m\u001b[1;33m\u001b[0m\u001b[1;33m\u001b[0m\u001b[0m\n",
      "\u001b[1;32m~\\Anaconda3\\lib\\site-packages\\sklearn\\base.py\u001b[0m in \u001b[0;36mfit_transform\u001b[1;34m(self, X, y, **fit_params)\u001b[0m\n\u001b[0;32m    460\u001b[0m         \u001b[1;32mif\u001b[0m \u001b[0my\u001b[0m \u001b[1;32mis\u001b[0m \u001b[1;32mNone\u001b[0m\u001b[1;33m:\u001b[0m\u001b[1;33m\u001b[0m\u001b[1;33m\u001b[0m\u001b[0m\n\u001b[0;32m    461\u001b[0m             \u001b[1;31m# fit method of arity 1 (unsupervised transformation)\u001b[0m\u001b[1;33m\u001b[0m\u001b[1;33m\u001b[0m\u001b[1;33m\u001b[0m\u001b[0m\n\u001b[1;32m--> 462\u001b[1;33m             \u001b[1;32mreturn\u001b[0m \u001b[0mself\u001b[0m\u001b[1;33m.\u001b[0m\u001b[0mfit\u001b[0m\u001b[1;33m(\u001b[0m\u001b[0mX\u001b[0m\u001b[1;33m,\u001b[0m \u001b[1;33m**\u001b[0m\u001b[0mfit_params\u001b[0m\u001b[1;33m)\u001b[0m\u001b[1;33m.\u001b[0m\u001b[0mtransform\u001b[0m\u001b[1;33m(\u001b[0m\u001b[0mX\u001b[0m\u001b[1;33m)\u001b[0m\u001b[1;33m\u001b[0m\u001b[1;33m\u001b[0m\u001b[0m\n\u001b[0m\u001b[0;32m    463\u001b[0m         \u001b[1;32melse\u001b[0m\u001b[1;33m:\u001b[0m\u001b[1;33m\u001b[0m\u001b[1;33m\u001b[0m\u001b[0m\n\u001b[0;32m    464\u001b[0m             \u001b[1;31m# fit method of arity 2 (supervised transformation)\u001b[0m\u001b[1;33m\u001b[0m\u001b[1;33m\u001b[0m\u001b[1;33m\u001b[0m\u001b[0m\n",
      "\u001b[1;32m~\\Dropbox\\Princeton School of AI\\ts_project\\TransformData.py\u001b[0m in \u001b[0;36mtransform\u001b[1;34m(self, X, y)\u001b[0m\n\u001b[0;32m    107\u001b[0m         \u001b[0mfinal_data\u001b[0m \u001b[1;33m=\u001b[0m \u001b[0mpd\u001b[0m\u001b[1;33m.\u001b[0m\u001b[0mDataFrame\u001b[0m\u001b[1;33m(\u001b[0m\u001b[0mindex\u001b[0m \u001b[1;33m=\u001b[0m \u001b[0mself\u001b[0m\u001b[1;33m.\u001b[0m\u001b[0mindex_\u001b[0m\u001b[1;33m)\u001b[0m\u001b[1;33m\u001b[0m\u001b[1;33m\u001b[0m\u001b[0m\n\u001b[0;32m    108\u001b[0m         \u001b[1;32mfor\u001b[0m \u001b[0mdatabase\u001b[0m \u001b[1;32min\u001b[0m \u001b[1;33m[\u001b[0m\u001b[0mOriginalData\u001b[0m\u001b[1;33m,\u001b[0m \u001b[0mVolume\u001b[0m\u001b[1;33m,\u001b[0m \u001b[0mVolatility\u001b[0m\u001b[1;33m,\u001b[0m \u001b[0mTrend\u001b[0m\u001b[1;33m,\u001b[0m \u001b[0mMomentum\u001b[0m\u001b[1;33m,\u001b[0m \u001b[0mOthers\u001b[0m\u001b[1;33m]\u001b[0m\u001b[1;33m:\u001b[0m\u001b[1;33m\u001b[0m\u001b[1;33m\u001b[0m\u001b[0m\n\u001b[1;32m--> 109\u001b[1;33m             \u001b[0mtemp\u001b[0m \u001b[1;33m=\u001b[0m \u001b[0mPCA\u001b[0m\u001b[1;33m(\u001b[0m\u001b[0mself\u001b[0m\u001b[1;33m.\u001b[0m\u001b[0mcount\u001b[0m\u001b[1;33m[\u001b[0m\u001b[0mcount_\u001b[0m\u001b[1;33m]\u001b[0m\u001b[1;33m)\u001b[0m\u001b[1;33m.\u001b[0m\u001b[0mfit_transform\u001b[0m\u001b[1;33m(\u001b[0m\u001b[0mdatabase\u001b[0m\u001b[1;33m)\u001b[0m\u001b[1;33m\u001b[0m\u001b[1;33m\u001b[0m\u001b[0m\n\u001b[0m\u001b[0;32m    110\u001b[0m             \u001b[0mfinal_data\u001b[0m \u001b[1;33m=\u001b[0m \u001b[0mpd\u001b[0m\u001b[1;33m.\u001b[0m\u001b[0mmerge\u001b[0m\u001b[1;33m(\u001b[0m\u001b[0mfinal_data\u001b[0m\u001b[1;33m,\u001b[0m\u001b[0mpd\u001b[0m\u001b[1;33m.\u001b[0m\u001b[0mDataFrame\u001b[0m\u001b[1;33m(\u001b[0m\u001b[0mtemp\u001b[0m\u001b[1;33m,\u001b[0m \u001b[0mindex\u001b[0m \u001b[1;33m=\u001b[0m \u001b[0mself\u001b[0m\u001b[1;33m.\u001b[0m\u001b[0mindex_\u001b[0m\u001b[1;33m)\u001b[0m\u001b[1;33m)\u001b[0m\u001b[1;33m\u001b[0m\u001b[1;33m\u001b[0m\u001b[0m\n\u001b[0;32m    111\u001b[0m \u001b[1;33m\u001b[0m\u001b[0m\n",
      "\u001b[1;31mTypeError\u001b[0m: 'int' object is not subscriptable"
     ]
    }
   ],
   "source": [
    "qqq = PCA_(0.95).fit_transform(qqq)\n",
    "print(qqq.head())\n",
    "qqq.shape\n"
   ]
  },
  {
   "cell_type": "code",
   "execution_count": null,
   "metadata": {},
   "outputs": [],
   "source": []
  }
 ],
 "metadata": {
  "kernelspec": {
   "display_name": "Python 3",
   "language": "python",
   "name": "python3"
  },
  "language_info": {
   "codemirror_mode": {
    "name": "ipython",
    "version": 3
   },
   "file_extension": ".py",
   "mimetype": "text/x-python",
   "name": "python",
   "nbconvert_exporter": "python",
   "pygments_lexer": "ipython3",
   "version": "3.6.8"
  }
 },
 "nbformat": 4,
 "nbformat_minor": 2
}
